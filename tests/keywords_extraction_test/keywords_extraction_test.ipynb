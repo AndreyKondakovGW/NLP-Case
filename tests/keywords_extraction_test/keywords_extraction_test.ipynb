{
 "metadata": {
  "language_info": {
   "codemirror_mode": {
    "name": "ipython",
    "version": 3
   },
   "file_extension": ".py",
   "mimetype": "text/x-python",
   "name": "python",
   "nbconvert_exporter": "python",
   "pygments_lexer": "ipython3",
   "version": "3.9.1"
  },
  "orig_nbformat": 2,
  "kernelspec": {
   "name": "python3",
   "display_name": "Python 3.9.1 64-bit",
   "metadata": {
    "interpreter": {
     "hash": "f170553ee8f2e542d43d2af0566f7208c8986c4668303670d00c16f87656bcbb"
    }
   }
  }
 },
 "nbformat": 4,
 "nbformat_minor": 2,
 "cells": [
  {
   "source": [
    "<h1>Comparsion of different models of keyword extraction</h1>\n",
    "<h3>Models:</h3>\n",
    "1. Tf-idf keyword extraction: extract words with hight tf-idf score as keyword<br>\n",
    "2. RAKE: (Rapid Automatic Keyword Extraction) is a well-known keyword extraction method which uses a list of stopwords and phrase delimiters to detect the most relevant words or phrases in a piece of text<br>\n",
    "3. TextRank: graph-based approach of keyword extraction<br>\n",
    "4. Bert<br>"
   ],
   "cell_type": "markdown",
   "metadata": {}
  },
  {
   "source": [
    "For models comparsion I use datset of news articles with keywords from [here](https://www.kaggle.com/harishcscode/all-news-articles-from-home-page-media-house). For each model I count precision, recall, f1 "
   ],
   "cell_type": "markdown",
   "metadata": {}
  },
  {
   "cell_type": "code",
   "execution_count": 1,
   "metadata": {},
   "outputs": [],
   "source": [
    "import RAKE\n",
    "import pandas as pd\n",
    "import nltk\n",
    "\n",
    "from KeyWordExtractorChecking import compare_models\n",
    "from StopListGenerator import generate_stop_list"
   ]
  },
  {
   "cell_type": "code",
   "execution_count": 2,
   "metadata": {},
   "outputs": [
    {
     "output_type": "stream",
     "name": "stdout",
     "text": [
      "Data Contains 939 articles\nMean article size: 5479\nMean keywords amount : 13\n"
     ]
    }
   ],
   "source": [
    "def to_list(tags_s):\n",
    "    tags = [t for t in tags_s.replace('\\'', '').replace('[', '').replace(']', '').split(', ')]\n",
    "    return tags\n",
    "\n",
    "article_df = pd.read_csv('./data/articles.csv')\n",
    "keywords = article_df['keywords'].apply(to_list).array\n",
    "articles = article_df['articles'].array\n",
    "\n",
    "print(\"Data Contains %d articles\"% len(articles))\n",
    "print(\"Mean article size: %d\"% (sum(map(len, articles)) / len(articles)))\n",
    "print(\"Mean keywords amount : %d\"%(sum( map(len, keywords) ) / len(keywords)))"
   ]
  },
  {
   "cell_type": "code",
   "execution_count": 3,
   "metadata": {},
   "outputs": [],
   "source": [
    "from nlp_case.server.app.models.preprocessor.StandartPreprogressor import preprocess_text,tokenizer_regex\n",
    "from nlp_case.server.app.models.text_keywords_models.Tfidf_model import Tfidf_model"
   ]
  },
  {
   "cell_type": "code",
   "execution_count": 4,
   "metadata": {},
   "outputs": [],
   "source": [
    "from rake_nltk import Rake\n",
    "\n",
    "class RAKE_model:\n",
    "    def __init__(self, stopwords, max_length, name=\"RAKE\"):\n",
    "        self.stopwords = stopwords\n",
    "        self.name = name\n",
    "        self.model = Rake(\n",
    "            punctuations=\",.\\\"\\'()[]:; \",\n",
    "            stopwords=self.stopwords,\n",
    "            max_length=max_length\n",
    "        )\n",
    "    def predict_tags(self,text):\n",
    "        clean_text = ' '.join(tokenizer_regex(text, min_token_size=1))\n",
    "        clean_text = preprocess_text(clean_text)\n",
    "        self.model.extract_keywords_from_text(clean_text)\n",
    "        keywords = self.model.get_ranked_phrases()\n",
    "        return keywords\n"
   ]
  },
  {
   "cell_type": "code",
   "execution_count": 7,
   "metadata": {},
   "outputs": [],
   "source": [
    "from summa import keywords as summa_keywords\n",
    "\n",
    "class TextRank_model:\n",
    "    def __init__(self, name=\"TextRank\"):\n",
    "        self.name = name\n",
    "        self.stoplist = set(nltk.corpus.stopwords.words('english'))\n",
    "        \n",
    "\n",
    "    def predict_tags(self, text):\n",
    "        clean_text = ' '.join(tokenizer_regex(text, min_token_size=1))\n",
    "        clean_text = preprocess_text(clean_text, stopwords = self.stoplist)\n",
    "        keywords = summa_keywords.keywords(clean_text).split()\n",
    "        \n",
    "        return keywords\n",
    "    "
   ]
  },
  {
   "cell_type": "code",
   "execution_count": null,
   "metadata": {},
   "outputs": [],
   "source": [
    "class My_Tfidf_model:\n",
    "    def __init__(self, name=\"Tfidf_model\"):\n",
    "        self.model = Tfidf_model()\n",
    "        self.name = name\n",
    "        \n",
    "    def predict_tags(self, text):\n",
    "        keywords = self.modle.predict_keywords(text)\n",
    "        \n",
    "        return keywords"
   ]
  },
  {
   "cell_type": "code",
   "execution_count": 9,
   "metadata": {},
   "outputs": [],
   "source": [
    "rake1 = RAKE_model(RAKE.FoxStopList(), 3, \"RAKE_Model FoxStopWords\") \n",
    "text_rank = TextRank_model()\n",
    "tf_model = My_Tfidf_model()"
   ]
  },
  {
   "cell_type": "code",
   "execution_count": 10,
   "metadata": {},
   "outputs": [
    {
     "output_type": "stream",
     "name": "stdout",
     "text": [
      "----------\n",
      "RAKE_Model FoxStopWords Report\n",
      "True keywords: Total 12661 Mean 13.483493\n",
      "Extracted keywords: Total 175538 Mean 186.941427\n",
      "Correct keywords: Total 4891 Mean 5.208733\n",
      "Recall: 0.386304 Precision: 0.027863\n",
      "F1: 0.025988\n",
      "----------\n",
      "----------\n",
      "TextRank Report\n",
      "True keywords: Total 12661 Mean 13.483493\n",
      "Extracted keywords: Total 55867 Mean 59.496273\n",
      "Correct keywords: Total 6628 Mean 7.058573\n",
      "Recall: 0.523497 Precision: 0.118639\n",
      "F1: 0.096720\n",
      "----------\n"
     ]
    },
    {
     "output_type": "error",
     "ename": "AttributeError",
     "evalue": "'Tfidf_model' object has no attribute 'predict_tags'",
     "traceback": [
      "\u001b[1;31m---------------------------------------------------------------------------\u001b[0m",
      "\u001b[1;31mAttributeError\u001b[0m                            Traceback (most recent call last)",
      "\u001b[1;32m<ipython-input-10-241359772056>\u001b[0m in \u001b[0;36m<module>\u001b[1;34m\u001b[0m\n\u001b[1;32m----> 1\u001b[1;33m \u001b[0mcompare_models\u001b[0m\u001b[1;33m(\u001b[0m\u001b[1;33m[\u001b[0m\u001b[0mrake1\u001b[0m\u001b[1;33m,\u001b[0m \u001b[0mtext_rank\u001b[0m\u001b[1;33m,\u001b[0m \u001b[0mtf_model\u001b[0m\u001b[1;33m]\u001b[0m\u001b[1;33m,\u001b[0m\u001b[0marticles\u001b[0m\u001b[1;33m,\u001b[0m \u001b[0mkeywords\u001b[0m\u001b[1;33m)\u001b[0m\u001b[1;33m\u001b[0m\u001b[1;33m\u001b[0m\u001b[0m\n\u001b[0m",
      "\u001b[1;32me:\\NLTK_Project\\NLP-Case\\tests\\keywords_extraction_test\\KeyWordExtractorChecking.py\u001b[0m in \u001b[0;36mcompare_models\u001b[1;34m(models, data, keywords)\u001b[0m\n\u001b[0;32m      4\u001b[0m         \u001b[0mmodel_pred\u001b[0m \u001b[1;33m=\u001b[0m \u001b[1;33m[\u001b[0m\u001b[1;33m]\u001b[0m\u001b[1;33m\u001b[0m\u001b[1;33m\u001b[0m\u001b[0m\n\u001b[0;32m      5\u001b[0m         \u001b[1;32mfor\u001b[0m \u001b[0mtext\u001b[0m \u001b[1;32min\u001b[0m \u001b[0mdata\u001b[0m\u001b[1;33m:\u001b[0m\u001b[1;33m\u001b[0m\u001b[1;33m\u001b[0m\u001b[0m\n\u001b[1;32m----> 6\u001b[1;33m             \u001b[0mtags\u001b[0m \u001b[1;33m=\u001b[0m \u001b[0mmodel\u001b[0m\u001b[1;33m.\u001b[0m\u001b[0mpredict_tags\u001b[0m\u001b[1;33m(\u001b[0m\u001b[0mtext\u001b[0m\u001b[1;33m)\u001b[0m\u001b[1;33m\u001b[0m\u001b[1;33m\u001b[0m\u001b[0m\n\u001b[0m\u001b[0;32m      7\u001b[0m             \u001b[0mmodel_pred\u001b[0m\u001b[1;33m.\u001b[0m\u001b[0mappend\u001b[0m\u001b[1;33m(\u001b[0m\u001b[0mtags\u001b[0m\u001b[1;33m)\u001b[0m\u001b[1;33m\u001b[0m\u001b[1;33m\u001b[0m\u001b[0m\n\u001b[0;32m      8\u001b[0m         \u001b[0mget_model_report\u001b[0m\u001b[1;33m(\u001b[0m\u001b[0mkeywords\u001b[0m\u001b[1;33m,\u001b[0m \u001b[0mmodel_pred\u001b[0m\u001b[1;33m,\u001b[0m \u001b[0mmodel\u001b[0m\u001b[1;33m.\u001b[0m\u001b[0mname\u001b[0m\u001b[1;33m)\u001b[0m\u001b[1;33m\u001b[0m\u001b[1;33m\u001b[0m\u001b[0m\n",
      "\u001b[1;31mAttributeError\u001b[0m: 'Tfidf_model' object has no attribute 'predict_tags'"
     ]
    }
   ],
   "source": [
    "compare_models([rake1, text_rank, tf_model],articles, keywords)"
   ]
  }
 ]
}